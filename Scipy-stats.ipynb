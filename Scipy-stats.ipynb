{
 "cells": [
  {
   "cell_type": "markdown",
   "id": "6816ae92-6cb1-4740-b622-18bddc5da70f",
   "metadata": {},
   "source": [
    "# <center> Machine Learning and Statistics Assessment Winter 2021\n",
    "\n",
    "****\n",
    "\n",
    "## <center> Scipy Stats Jupyter Notebook\n",
    "\n",
    "### *Overview of Scipy-Stats Python library*\n",
    "    \n",
    "SciPy  is a scientific library for python and is an open source, BSD-licenced library for mathematics, science and engineering computations.  The SciPy library depends on NumPy, which provides convenient and fast N-dimensional array manipulations. The subpackage Scipy.stats contains all of the statistics functions.  It contains a large number of probability distributions, summary and frequency statistics, correlation functions and statistical tests, masked statistics, kernel density estimation, quasi-Monte Carolo functionality and more. (Tutorialspoint.com,2021)\n",
    "    \n",
    "It provides functionality under the following headings:\n",
    "   - Probability Distributions - Continous, Multivariate, Discrete\n",
    "   - Summary Statistics\n",
    "   - Frequency Statistics\n",
    "   - Correlations Functions\n",
    "   - Statistical Tests\n",
    "   - Quasi-Monte Carlo\n",
    "   - Masked Statistics Functions\n",
    "   - Other Statistical Functionality - Transformations, Statistical Distances\n",
    "   - Random Variate Generation/VDF Inversion - Circular Statisticsl Functions, Contigency Table Functions, Plot-tests, Univariae and multivariate kernal density estimation.\n",
    "    \n",
    "    \n",
    "    (Docs.scipy.org,2021)\n",
    "    "
   ]
  },
  {
   "cell_type": "code",
   "execution_count": null,
   "id": "890048a0-6fec-4c51-b503-950490c5c1b5",
   "metadata": {},
   "outputs": [],
   "source": []
  },
  {
   "cell_type": "code",
   "execution_count": null,
   "id": "c9cb2b04-e419-4321-b4c0-3ac5100a3d0a",
   "metadata": {},
   "outputs": [],
   "source": []
  },
  {
   "cell_type": "code",
   "execution_count": null,
   "id": "6524d01d-ee15-48f3-ac36-ee15a1946782",
   "metadata": {},
   "outputs": [],
   "source": []
  },
  {
   "cell_type": "code",
   "execution_count": null,
   "id": "a4745b4f-ce3c-4950-8b5a-b033880db942",
   "metadata": {},
   "outputs": [],
   "source": []
  },
  {
   "cell_type": "code",
   "execution_count": null,
   "id": "419d541f-d13e-4805-8167-018e1290888e",
   "metadata": {},
   "outputs": [],
   "source": []
  },
  {
   "cell_type": "code",
   "execution_count": null,
   "id": "dc29468e-4396-45cc-9f7f-dd807ededee2",
   "metadata": {},
   "outputs": [],
   "source": []
  },
  {
   "cell_type": "code",
   "execution_count": null,
   "id": "d404d66c-0582-412f-83bf-510b63c79c81",
   "metadata": {},
   "outputs": [],
   "source": []
  },
  {
   "cell_type": "code",
   "execution_count": null,
   "id": "7d12cdd0-c798-4466-8ccc-dd810e17d735",
   "metadata": {},
   "outputs": [],
   "source": []
  },
  {
   "cell_type": "markdown",
   "id": "c5812468-141d-4a17-88f8-5c1b3c1bfec7",
   "metadata": {},
   "source": []
  },
  {
   "cell_type": "markdown",
   "id": "b74862a2-4c90-4d32-a862-4fbf8d4947d3",
   "metadata": {},
   "source": [
    "## References\n",
    "\n",
    "Tutorialspoint.com, 2021 Scipy Tutorialspoint. [Online] www.tutorialspoint.com/sciy/index.htm and www.tutorialspoint.comscipy/scipy_stats.htm [Accessed Ocotober 2021]\n",
    "\n",
    "Docs.scipy.org,, 2021 Docs.Scipy. [Online] https://docs.scipy.org/doc/scipy/reference/stats.html#module-scipy.stats [Accessed Ocotober 2021]\n"
   ]
  },
  {
   "cell_type": "code",
   "execution_count": null,
   "id": "9087bc73-7f0c-4005-b89b-9a64194cf8f5",
   "metadata": {},
   "outputs": [],
   "source": []
  }
 ],
 "metadata": {
  "kernelspec": {
   "display_name": "Python 3",
   "language": "python",
   "name": "python3"
  },
  "language_info": {
   "codemirror_mode": {
    "name": "ipython",
    "version": 3
   },
   "file_extension": ".py",
   "mimetype": "text/x-python",
   "name": "python",
   "nbconvert_exporter": "python",
   "pygments_lexer": "ipython3",
   "version": "3.8.8"
  }
 },
 "nbformat": 4,
 "nbformat_minor": 5
}
