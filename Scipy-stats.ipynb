{
 "cells": [
  {
   "cell_type": "markdown",
   "id": "6816ae92-6cb1-4740-b622-18bddc5da70f",
   "metadata": {},
   "source": [
    "# <center>Machine Learning and Statistics Assessment Winter 2021\r\n",
    "\r\n",
    "****\r\n",
    "\r\n",
    "## ter> <cenScipy searn Jupyter Notebook\r\n",
    "\r\n",
    "### *ew-Learn Python Libr python.(Tutorialspoint.com,2021)\r\n",
    "    "
   ]
  },
  {
   "cell_type": "code",
   "execution_count": null,
   "id": "890048a0-6fec-4c51-b503-950490c5c1b5",
   "metadata": {},
   "outputs": [],
   "source": []
  },
  {
   "cell_type": "markdown",
   "id": "3b0baf32-d903-45dd-82ce-37b99c23651a",
   "metadata": {
    "tags": []
   },
   "source": [
    "#Scipy Stats\n",
    "\n",
    "\n",
    "\n",
    "\n",
    "This module contains a large number of probability distributions, summary and frequency statistics, correlation functions and statistical tests, mased statistics, kernel densigy estimation, quasi-Monte Carlo functionality and more. \n",
    "\n"
   ]
  },
  {
   "cell_type": "code",
   "execution_count": null,
   "id": "c9cb2b04-e419-4321-b4c0-3ac5100a3d0a",
   "metadata": {},
   "outputs": [],
   "source": []
  },
  {
   "cell_type": "code",
   "execution_count": null,
   "id": "6524d01d-ee15-48f3-ac36-ee15a1946782",
   "metadata": {},
   "outputs": [],
   "source": []
  },
  {
   "cell_type": "code",
   "execution_count": null,
   "id": "a4745b4f-ce3c-4950-8b5a-b033880db942",
   "metadata": {},
   "outputs": [],
   "source": []
  },
  {
   "cell_type": "code",
   "execution_count": null,
   "id": "419d541f-d13e-4805-8167-018e1290888e",
   "metadata": {},
   "outputs": [],
   "source": []
  },
  {
   "cell_type": "code",
   "execution_count": null,
   "id": "dc29468e-4396-45cc-9f7f-dd807ededee2",
   "metadata": {},
   "outputs": [],
   "source": []
  },
  {
   "cell_type": "code",
   "execution_count": null,
   "id": "d404d66c-0582-412f-83bf-510b63c79c81",
   "metadata": {},
   "outputs": [],
   "source": []
  },
  {
   "cell_type": "code",
   "execution_count": null,
   "id": "7d12cdd0-c798-4466-8ccc-dd810e17d735",
   "metadata": {},
   "outputs": [],
   "source": []
  },
  {
   "cell_type": "markdown",
   "id": "c5812468-141d-4a17-88f8-5c1b3c1bfec7",
   "metadata": {},
   "source": []
  },
  {
   "cell_type": "markdown",
   "id": "b74862a2-4c90-4d32-a862-4fbf8d4947d3",
   "metadata": {},
   "source": [
    "## References\r\n",
    "\r\n",
    "Tutorialspoint.com, 202Scipyn Tutorialon. [Online] www.tutorialspoint.com/spy/index.htmtm [Accessed September 2021]"
   ]
  }
 ],
 "metadata": {
  "kernelspec": {
   "display_name": "Python 3",
   "language": "python",
   "name": "python3"
  },
  "language_info": {
   "codemirror_mode": {
    "name": "ipython",
    "version": 3
   },
   "file_extension": ".py",
   "mimetype": "text/x-python",
   "name": "python",
   "nbconvert_exporter": "python",
   "pygments_lexer": "ipython3",
   "version": "3.8.8"
  }
 },
 "nbformat": 4,
 "nbformat_minor": 5
}
