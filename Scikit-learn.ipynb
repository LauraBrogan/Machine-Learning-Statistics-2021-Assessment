{
 "cells": [
  {
   "cell_type": "markdown",
   "id": "181301ee",
   "metadata": {},
   "source": [
    "# <center>Machine Learning and Statistics Assessment Winter 2021\r\n",
    "\r\n",
    "****\r\n",
    "\r\n",
    "## <center>Scikit Learn Jupyter Notebook\r\n",
    "\r\n",
    "### *Overview of Scikit-Learn Python Library*\r\n",
    "\r\n",
    "Scikit-learn (Sklearn) is a useful and robust libracy for mahine learning in Iython.idet proveds a selection of efficeint tools for machine learning and statistical modeling inculuding classification, regression, clustering and dimensionaloty reduction via a consistence interface in python.(Tutorialspoint.com,2021)\r\n",
    "    "
   ]
  },
  {
   "cell_type": "code",
   "execution_count": null,
   "id": "6e147a00",
   "metadata": {},
   "outputs": [],
   "source": []
  },
  {
   "cell_type": "code",
   "execution_count": null,
   "id": "3f3fdf46",
   "metadata": {},
   "outputs": [],
   "source": []
  },
  {
   "cell_type": "code",
   "execution_count": null,
   "id": "b1677e64",
   "metadata": {},
   "outputs": [],
   "source": []
  },
  {
   "cell_type": "code",
   "execution_count": null,
   "id": "d1f7ab54",
   "metadata": {},
   "outputs": [],
   "source": []
  },
  {
   "cell_type": "code",
   "execution_count": null,
   "id": "1290ef1b",
   "metadata": {},
   "outputs": [],
   "source": []
  },
  {
   "cell_type": "code",
   "execution_count": null,
   "id": "fc88e831",
   "metadata": {},
   "outputs": [],
   "source": []
  },
  {
   "cell_type": "markdown",
   "id": "c2cdf9ea",
   "metadata": {},
   "source": [
    "## References\r\n",
    "\r\n",
    "Tutorialspoint.com, 2021 Scikit Learn - Introduction. [Online] www.tutorialspoint.com/scikit_learn/scikit_learn_introduction.htm [Accessed September 2021]"
   ]
  },
  {
   "cell_type": "markdown",
   "id": "f20bb727",
   "metadata": {},
   "source": []
  },
  {
   "cell_type": "code",
   "execution_count": null,
   "id": "393b0116",
   "metadata": {},
   "outputs": [],
   "source": []
  }
 ],
 "metadata": {
  "kernelspec": {
   "display_name": "Python 3",
   "language": "python",
   "name": "python3"
  },
  "language_info": {
   "codemirror_mode": {
    "name": "ipython",
    "version": 3
   },
   "file_extension": ".py",
   "mimetype": "text/x-python",
   "name": "python",
   "nbconvert_exporter": "python",
   "pygments_lexer": "ipython3",
   "version": "3.8.8"
  }
 },
 "nbformat": 4,
 "nbformat_minor": 5
}
